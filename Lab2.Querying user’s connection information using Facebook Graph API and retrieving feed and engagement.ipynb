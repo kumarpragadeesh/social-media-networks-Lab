{
 "cells": [
  {
   "cell_type": "markdown",
   "id": "a59f92c1",
   "metadata": {},
   "source": [
    "### PRAGADEESH M\n",
    "## 225229126"
   ]
  },
  {
   "cell_type": "markdown",
   "id": "1dce277c",
   "metadata": {},
   "source": [
    "# Querying user’s connection information using Facebook Graph API and retrieving feed and engagement"
   ]
  },
  {
   "cell_type": "markdown",
   "id": "8eb6b15e",
   "metadata": {},
   "source": [
    "### Step 1:\n",
    "\n",
    "To get started, log in to your Facebook account and go\n",
    "to https://developers.facebook.com/tools/explorer/ to obtain an ACCESS_TOKEN, and then\n",
    "paste it into the code cell below."
   ]
  },
  {
   "cell_type": "code",
   "execution_count": 3,
   "id": "349b0757",
   "metadata": {},
   "outputs": [],
   "source": [
    "ACCESS_TOKEN=\"EAADJ3U6hXpkBALDCXcgZCjDOeNMoYOZC6Sz1zKW6NHwO2pJCXPXwlzpItZC8iiPm4LF47wXpLOHAKNnwZAZBRvF3ubNsttLo9wd9sSTorMqEpaI9CSbgN2WUkjztQPvDPWWcbZCgzCQxAG66r8YerZApOH7SMFcdm04ZAOim3TsZAZCxWvRTr3A2DCxHYZAKelDwBqCx2cvfUeh0nAjZBPBzmsfz2yGZCOnC1b1GuS9yPWRGSPEMt76NuZCfDmYQwzrsDRi2cZD\""
   ]
  },
  {
   "cell_type": "markdown",
   "id": "516f3b59",
   "metadata": {},
   "source": [
    "### Step 2: Install the necessary libraries"
   ]
  },
  {
   "cell_type": "code",
   "execution_count": 4,
   "id": "c19092cc",
   "metadata": {},
   "outputs": [],
   "source": [
    "import facebook\n",
    "import urllib3\n",
    "import requests\n",
    "import json"
   ]
  },
  {
   "cell_type": "markdown",
   "id": "9842ce1d",
   "metadata": {},
   "source": [
    "### Step 3: Querying the Graph API with Python"
   ]
  },
  {
   "cell_type": "code",
   "execution_count": 5,
   "id": "e78ac1f5",
   "metadata": {},
   "outputs": [
    {
     "name": "stdout",
     "output_type": "stream",
     "text": [
      "{\n",
      " \"name\": \"Pragadeesh M\",\n",
      " \"id\": \"108733502294974\"\n",
      "}\n"
     ]
    }
   ],
   "source": [
    "def pp(o):\n",
    "    print(json.dumps(o, indent=1))\n",
    "g = facebook.GraphAPI(ACCESS_TOKEN, version='2.10')\n",
    "pp(g.get_object('me'))"
   ]
  },
  {
   "cell_type": "markdown",
   "id": "a9a2f606",
   "metadata": {},
   "source": [
    "### Step 4: Get the user's connection names - likes , friends, feed, groups- This may require permissions"
   ]
  },
  {
   "cell_type": "code",
   "execution_count": 6,
   "id": "4c8130df",
   "metadata": {
    "scrolled": true
   },
   "outputs": [
    {
     "name": "stdout",
     "output_type": "stream",
     "text": [
      "{\n",
      " \"data\": []\n",
      "}\n",
      "{\n",
      " \"data\": [],\n",
      " \"summary\": {\n",
      "  \"total_count\": 0\n",
      " }\n",
      "}\n",
      "{\n",
      " \"data\": []\n",
      "}\n",
      "{\n",
      " \"data\": []\n",
      "}\n"
     ]
    }
   ],
   "source": [
    "pp(g.get_connections(id='me', connection_name='likes'))\n",
    "pp(g.get_connections(id='me', connection_name='friends'))\n",
    "pp(g.get_connections(id='me', connection_name='feed'))\n",
    "pp(g.get_connections(id='me', connection_name='groups'))"
   ]
  },
  {
   "cell_type": "markdown",
   "id": "c09d98d8",
   "metadata": {},
   "source": [
    "### Step 5: Get Information about a feed in your facebook page"
   ]
  },
  {
   "cell_type": "code",
   "execution_count": 7,
   "id": "59e829c5",
   "metadata": {
    "scrolled": true
   },
   "outputs": [
    {
     "name": "stdout",
     "output_type": "stream",
     "text": [
      "{\n",
      " \"data\": []\n",
      "}\n"
     ]
    }
   ],
   "source": [
    "pp(g.get_connections(id='me', connection_name='feed', fields='information', limit='100'))"
   ]
  },
  {
   "cell_type": "markdown",
   "id": "8421126e",
   "metadata": {},
   "source": [
    "### Step 6: Get the metrics towards engagement of connections towards your Facebook post¶"
   ]
  },
  {
   "cell_type": "code",
   "execution_count": 8,
   "id": "0f1b105a",
   "metadata": {
    "scrolled": true
   },
   "outputs": [
    {
     "name": "stdout",
     "output_type": "stream",
     "text": [
      "{\n",
      " \"data\": []\n",
      "}\n"
     ]
    }
   ],
   "source": [
    "pp(g.get_connections(id='me', connection_name='posts', fields='caption,created_time,description', limit='100'))"
   ]
  }
 ],
 "metadata": {
  "kernelspec": {
   "display_name": "Python 3 (ipykernel)",
   "language": "python",
   "name": "python3"
  },
  "language_info": {
   "codemirror_mode": {
    "name": "ipython",
    "version": 3
   },
   "file_extension": ".py",
   "mimetype": "text/x-python",
   "name": "python",
   "nbconvert_exporter": "python",
   "pygments_lexer": "ipython3",
   "version": "3.10.9"
  }
 },
 "nbformat": 4,
 "nbformat_minor": 5
}
