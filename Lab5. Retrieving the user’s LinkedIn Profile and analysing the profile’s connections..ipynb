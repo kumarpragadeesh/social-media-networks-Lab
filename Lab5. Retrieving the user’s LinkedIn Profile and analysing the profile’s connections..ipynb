{
 "cells": [
  {
   "cell_type": "markdown",
   "id": "5aa174ca",
   "metadata": {},
   "source": [
    "### PRAGADEESH M\n",
    "## 225229126"
   ]
  },
  {
   "cell_type": "markdown",
   "id": "09094039",
   "metadata": {},
   "source": [
    "### 1. Access the LinkedIn API and create an app and retrieve the API key and Secret key through the \"Developer\" section of your account settings by navigating directly to https://www.linkedin.com/secure/developer."
   ]
  },
  {
   "cell_type": "code",
   "execution_count": 42,
   "id": "1424f782",
   "metadata": {},
   "outputs": [],
   "source": [
    "import string, random, requests\n",
    "import pandas as pd"
   ]
  },
  {
   "cell_type": "code",
   "execution_count": 43,
   "id": "e56e6656",
   "metadata": {},
   "outputs": [],
   "source": [
    "CLIENT_ID = '86o94w8wamw3le'\n",
    "CLIENT_SECRET = 'EslHUZeWj13e7vYm'\n",
    "REDIRECT_URI = 'http://localhost:8888/notebooks/notebooks/SMA/Lab%204.%20Retrieving%20the%20user%E2%80%99s%20LinkedIn%20Profile%20and%20analysing%20the%20profile%E2%80%99s%20connections..ipynb'"
   ]
  },
  {
   "cell_type": "markdown",
   "id": "2a472a15",
   "metadata": {},
   "source": [
    "### 2.Use LinkedIn OAuth credentials to receive an access token suitable for development and access your own data"
   ]
  },
  {
   "cell_type": "code",
   "execution_count": 44,
   "id": "57e097a6",
   "metadata": {},
   "outputs": [
    {
     "name": "stdout",
     "output_type": "stream",
     "text": [
      "https://www.linkedin.com/uas/login?session_redirect=%2Foauth%2Fv2%2Flogin-success%3Fapp_id%3D211535396%26auth_type%3DAC%26flow%3D%257B%2522state%2522%253A%2522uukpvhwjalcvtntbxyflyxxd%2522%252C%2522scope%2522%253A%2522r_liteprofile%252Cr_emailaddress%252Cw_member_social%2522%252C%2522appId%2522%253A211535396%252C%2522authorizationType%2522%253A%2522OAUTH2_AUTHORIZATION_CODE%2522%252C%2522authFlowName%2522%253A%2522generic-permission-list%2522%252C%2522currentStage%2522%253A%2522LOGIN_SUCCESS%2522%252C%2522currentSubStage%2522%253A0%252C%2522creationTime%2522%253A1690466401190%252C%2522redirectUri%2522%253A%2522http%253A%252F%252Flocalhost%253A8888%252Fnotebooks%252Fnotebooks%252FSMA%252FLab%2525204.%252520Retrieving%252520the%252520user%2525E2%252580%252599s%252520LinkedIn%252520Profile%252520and%252520analysing%252520the%252520profile%2525E2%252580%252599s%252520connections..ipynb%2522%257D&fromSignIn=1&trk=oauth&cancel_redirect=%2Foauth%2Fv2%2Flogin-cancel%3Fapp_id%3D211535396%26auth_type%3DAC%26flow%3D%257B%2522state%2522%253A%2522uukpvhwjalcvtntbxyflyxxd%2522%252C%2522scope%2522%253A%2522r_liteprofile%252Cr_emailaddress%252Cw_member_social%2522%252C%2522appId%2522%253A211535396%252C%2522authorizationType%2522%253A%2522OAUTH2_AUTHORIZATION_CODE%2522%252C%2522authFlowName%2522%253A%2522generic-permission-list%2522%252C%2522currentStage%2522%253A%2522LOGIN_SUCCESS%2522%252C%2522currentSubStage%2522%253A0%252C%2522creationTime%2522%253A1690466401190%252C%2522redirectUri%2522%253A%2522http%253A%252F%252Flocalhost%253A8888%252Fnotebooks%252Fnotebooks%252FSMA%252FLab%2525204.%252520Retrieving%252520the%252520user%2525E2%252580%252599s%252520LinkedIn%252520Profile%252520and%252520analysing%252520the%252520profile%2525E2%252580%252599s%252520connections..ipynb%2522%257D\n"
     ]
    }
   ],
   "source": [
    "letters = string.ascii_lowercase\n",
    "CSRF_TOKEN = ''.join(random.choice(letters) for i in range(24))\n",
    "\n",
    "auth_params = {'response_type': 'code',\n",
    " 'client_id': CLIENT_ID,\n",
    " 'redirect_uri': REDIRECT_URI,\n",
    " 'state': CSRF_TOKEN,\n",
    " 'scope': 'r_liteprofile,r_emailaddress,w_member_social'}\n",
    "\n",
    "html = requests.get(\"https://www.linkedin.com/oauth/v2/authorization\",params = auth_params)\n",
    "\n",
    "print(html.url)"
   ]
  },
  {
   "cell_type": "markdown",
   "id": "c462fe51",
   "metadata": {},
   "source": [
    "### 3. Inspect the address bar of your browser once you reach your redirect page and Copy the code after '&code=...', but don't include '&state=...' and paste it in the code below"
   ]
  },
  {
   "cell_type": "code",
   "execution_count": 55,
   "id": "5aee072f",
   "metadata": {},
   "outputs": [
    {
     "name": "stdout",
     "output_type": "stream",
     "text": [
      "Expires in (seconds): {'active': True, 'client_id': '86o94w8wamw3le', 'authorized_at': 1690466226, 'created_at': 1690466226, 'status': 'active', 'expires_at': 1695650230, 'scope': 'r_emailaddress,r_liteprofile,w_member_social', 'auth_type': '3L'}\n"
     ]
    }
   ],
   "source": [
    "AUTH_CODE='AQVqhKuDkpx8S5rOY16q4__Q3BGeoqigKq8WGf9IFhnSZL-wD-rzQsUtdTS_cXenQs5kY48CVyIBti6RiuJfkYiy4CBvoeQx4Kmp-M4K3zYQ6idP_UgfXBo16EC-3yCCZmzoKil26uNYz-DpGHE0r75TBYO4HKE0rj_ANX_tHEegb82k1hJidiuWPz-w59aBbqId5ik3Tq3QHxRO-wVmkhbs6Iw4JS3psn0Ow4WZGvcGB0TaM7ZnlyUtymO1i0C2l43jtTwe1ne9qiC16DQ0RDnEHRcD3z6lYeClS1f2-U9n43KHzNj73VEF0RzfbMTvBaU47VvwTPfxbhIY_o-GKtJBw9pHXg'\n",
    "ACCESS_TOKEN_URL = 'https://www.linkedin.com/oauth/v2/introspectToken'\n",
    "qd = {'token': AUTH_CODE,\n",
    " 'client_id': CLIENT_ID,\n",
    " 'client_secret': CLIENT_SECRET}\n",
    "response = requests.post(ACCESS_TOKEN_URL, data=qd, timeout=60)\n",
    "\n",
    "response = response.json()\n",
    "print (\"Expires in (seconds):\", response)"
   ]
  },
  {
   "cell_type": "markdown",
   "id": "52bec35b",
   "metadata": {},
   "source": [
    "### 4. Retrieving your LinkedIn profile"
   ]
  },
  {
   "cell_type": "code",
   "execution_count": 57,
   "id": "0dc803c0",
   "metadata": {},
   "outputs": [
    {
     "name": "stdout",
     "output_type": "stream",
     "text": [
      "{\n",
      " \"localizedLastName\": \"M\",\n",
      " \"firstName\": {\n",
      "  \"localized\": {\n",
      "   \"en_US\": \"Pragadeesh\"\n",
      "  },\n",
      "  \"preferredLocale\": {\n",
      "   \"country\": \"US\",\n",
      "   \"language\": \"en\"\n",
      "  }\n",
      " },\n",
      " \"lastName\": {\n",
      "  \"localized\": {\n",
      "   \"en_US\": \"M\"\n",
      "  },\n",
      "  \"preferredLocale\": {\n",
      "   \"country\": \"US\",\n",
      "   \"language\": \"en\"\n",
      "  }\n",
      " },\n",
      " \"id\": \"0Ttdb_Te20\",\n",
      " \"localizedFirstName\": \"Pragadeesh\"\n",
      "}\n"
     ]
    }
   ],
   "source": [
    "# Make HTTP request to retrieve personal profile\n",
    "import json\n",
    "params = {'oauth2_access_token': AUTH_CODE}\n",
    "response = requests.get('https://api.linkedin.com/v2/me', params = params)\n",
    "\n",
    "print(json.dumps(response.json(), indent=1))"
   ]
  },
  {
   "cell_type": "markdown",
   "id": "cbc4765c",
   "metadata": {},
   "source": [
    "### 5. Download your LinkedIn profile data and read the connections data as a CSV file from the URL"
   ]
  },
  {
   "cell_type": "code",
   "execution_count": 2,
   "id": "91cfa144",
   "metadata": {},
   "outputs": [
    {
     "data": {
      "text/html": [
       "<div>\n",
       "<style scoped>\n",
       "    .dataframe tbody tr th:only-of-type {\n",
       "        vertical-align: middle;\n",
       "    }\n",
       "\n",
       "    .dataframe tbody tr th {\n",
       "        vertical-align: top;\n",
       "    }\n",
       "\n",
       "    .dataframe thead th {\n",
       "        text-align: right;\n",
       "    }\n",
       "</style>\n",
       "<table border=\"1\" class=\"dataframe\">\n",
       "  <thead>\n",
       "    <tr style=\"text-align: right;\">\n",
       "      <th></th>\n",
       "      <th>First Name</th>\n",
       "      <th>Last Name</th>\n",
       "      <th>URL</th>\n",
       "      <th>Email Address</th>\n",
       "      <th>Company</th>\n",
       "      <th>Position</th>\n",
       "      <th>Connected On</th>\n",
       "    </tr>\n",
       "  </thead>\n",
       "  <tbody>\n",
       "    <tr>\n",
       "      <th>31</th>\n",
       "      <td>AKKIM</td>\n",
       "      <td>K</td>\n",
       "      <td>https://www.linkedin.com/in/akkim-k-737730252</td>\n",
       "      <td>NaN</td>\n",
       "      <td>NaN</td>\n",
       "      <td>NaN</td>\n",
       "      <td>21 Jul 2023</td>\n",
       "    </tr>\n",
       "    <tr>\n",
       "      <th>107</th>\n",
       "      <td>Rahini</td>\n",
       "      <td>Santhanam</td>\n",
       "      <td>https://www.linkedin.com/in/rahini-santhanam-5...</td>\n",
       "      <td>NaN</td>\n",
       "      <td>Nitroware Technology</td>\n",
       "      <td>Python (Django)</td>\n",
       "      <td>31 Jan 2023</td>\n",
       "    </tr>\n",
       "    <tr>\n",
       "      <th>101</th>\n",
       "      <td>EMMANUEL</td>\n",
       "      <td>HABUMUGISHA</td>\n",
       "      <td>https://www.linkedin.com/in/emmanuel-habumugis...</td>\n",
       "      <td>NaN</td>\n",
       "      <td>NaN</td>\n",
       "      <td>NaN</td>\n",
       "      <td>30 May 2023</td>\n",
       "    </tr>\n",
       "    <tr>\n",
       "      <th>3</th>\n",
       "      <td>D</td>\n",
       "      <td>Jaison</td>\n",
       "      <td>https://www.linkedin.com/in/jaison-bpm</td>\n",
       "      <td>NaN</td>\n",
       "      <td>Kumudham Department Stores</td>\n",
       "      <td>Billing Clerk</td>\n",
       "      <td>26 Jul 2023</td>\n",
       "    </tr>\n",
       "    <tr>\n",
       "      <th>44</th>\n",
       "      <td>Ashika</td>\n",
       "      <td>.C</td>\n",
       "      <td>https://www.linkedin.com/in/ashika-c-5284b9247</td>\n",
       "      <td>NaN</td>\n",
       "      <td>NaN</td>\n",
       "      <td>NaN</td>\n",
       "      <td>16 Jul 2023</td>\n",
       "    </tr>\n",
       "  </tbody>\n",
       "</table>\n",
       "</div>"
      ],
      "text/plain": [
       "    First Name    Last Name  \\\n",
       "31       AKKIM            K   \n",
       "107     Rahini    Santhanam   \n",
       "101   EMMANUEL  HABUMUGISHA   \n",
       "3            D       Jaison   \n",
       "44      Ashika           .C   \n",
       "\n",
       "                                                   URL  Email Address  \\\n",
       "31       https://www.linkedin.com/in/akkim-k-737730252            NaN   \n",
       "107  https://www.linkedin.com/in/rahini-santhanam-5...            NaN   \n",
       "101  https://www.linkedin.com/in/emmanuel-habumugis...            NaN   \n",
       "3               https://www.linkedin.com/in/jaison-bpm            NaN   \n",
       "44      https://www.linkedin.com/in/ashika-c-5284b9247            NaN   \n",
       "\n",
       "                        Company         Position Connected On  \n",
       "31                          NaN              NaN  21 Jul 2023  \n",
       "107       Nitroware Technology   Python (Django)  31 Jan 2023  \n",
       "101                         NaN              NaN  30 May 2023  \n",
       "3    Kumudham Department Stores    Billing Clerk  26 Jul 2023  \n",
       "44                          NaN              NaN  16 Jul 2023  "
      ]
     },
     "execution_count": 2,
     "metadata": {},
     "output_type": "execute_result"
    }
   ],
   "source": [
    "import pandas as pd\n",
    "df = pd.read_csv('connections.csv')\n",
    "df.sample(5)"
   ]
  },
  {
   "cell_type": "markdown",
   "id": "a9d7be4e",
   "metadata": {},
   "source": [
    "### 6. Apply some transformations to the connections dataset and retrieve the following:\n",
    "\n",
    "a. Find the list of associated organisations and get the frequency\n",
    "\n",
    "b. Find the list of professional titles and the associated frequency"
   ]
  },
  {
   "cell_type": "code",
   "execution_count": 11,
   "id": "db163f53",
   "metadata": {},
   "outputs": [
    {
     "data": {
      "text/plain": [
       "Bishop Heber College, Tiruchirappalli - 620 017.      7\n",
       "MENMOZHI TECHNOLOGIES                                 4\n",
       "Infosys                                               2\n",
       "V R Della Infotech INC                                1\n",
       "DSM SOFT PVT LTD                                      1\n",
       "Indian Institute of Technology, Madras                1\n",
       "ZF Rane Automotive India Private Limited              1\n",
       "Rheo AI                                               1\n",
       "Victory Lance                                         1\n",
       "Leal designs                                          1\n",
       "Amizhth Techno Solutions                              1\n",
       "Kumudham Department Stores                            1\n",
       "Internshala                                           1\n",
       "Tata Consultancy Services                             1\n",
       "Bautomate | AI-Powered Process Automation Solution    1\n",
       "Ameyacloud Solutions                                  1\n",
       "Myway Net Cafe                                        1\n",
       "United Techno                                         1\n",
       "Royal Enfield                                         1\n",
       "Nitroware Technology                                  1\n",
       "Lebara                                                1\n",
       "Zuci Systems                                          1\n",
       "Wipro                                                 1\n",
       "HILIFE.AI PVT LTD                                     1\n",
       "Oasis Infobyte                                        1\n",
       "Empower India                                         1\n",
       "Deloitte                                              1\n",
       "Hometute                                              1\n",
       "MedTourEasy                                           1\n",
       "Norwin Technology                                     1\n",
       "Credo Health Services Pvt. Ltd.                       1\n",
       "Larsen & Toubro                                       1\n",
       "Wipro Technologies                                    1\n",
       "Unschool                                              1\n",
       "Mila - Quebec Artificial Intelligence Institute       1\n",
       "Don Bosco International Media Academy                 1\n",
       "Yaltech Global Private Ltd                            1\n",
       "Cognizant                                             1\n",
       "Actify Data Labs                                      1\n",
       "Name: Company, dtype: int64"
      ]
     },
     "execution_count": 11,
     "metadata": {},
     "output_type": "execute_result"
    }
   ],
   "source": [
    "df['Company'].value_counts()"
   ]
  },
  {
   "cell_type": "code",
   "execution_count": 12,
   "id": "01662552",
   "metadata": {},
   "outputs": [
    {
     "data": {
      "text/plain": [
       "Data Science Intern                            3\n",
       "Data Analyst                                   3\n",
       "Intern                                         2\n",
       "Student                                        2\n",
       "Assistant Professor                            2\n",
       "Billing Clerk                                  1\n",
       "Data Operations Engineer                       1\n",
       "Data Engineer                                  1\n",
       "Textile                                        1\n",
       "Angular intern at Amizhth techno solutions     1\n",
       "Python Developer                               1\n",
       "Founder | Proprietor                           1\n",
       "Solutions trainee                              1\n",
       "Graduate Trainee                               1\n",
       "Artificial Intelligence workshop               1\n",
       "Business Development Executive                 1\n",
       "DataScience Intern                             1\n",
       "System Administrator                           1\n",
       "Associate Professor                            1\n",
       "Software Engineer                              1\n",
       "Python (Django)                                1\n",
       "Management Trainee                             1\n",
       "Web Developer                                  1\n",
       "Fresher                                        1\n",
       "People Ambassador                              1\n",
       "Associate Analyst Actuarial Modeling           1\n",
       "Associate Analyst                              1\n",
       "DevOps Intern                                  1\n",
       "Toc Analyst                                    1\n",
       "System Engineer                                1\n",
       "Lead Software Development Engineer             1\n",
       "Junior Software Engineer                       1\n",
       "Community Influencer                           1\n",
       "Major Incident Manager                         1\n",
       "Researcher                                     1\n",
       "Guest Lecturer                                 1\n",
       "Trainee                                        1\n",
       "Senior System Engineer                         1\n",
       "Business intelligence and analytics intern     1\n",
       "Project Intern                                 1\n",
       "System Associate                               1\n",
       "Data Scientist                                 1\n",
       "Name: Position, dtype: int64"
      ]
     },
     "execution_count": 12,
     "metadata": {},
     "output_type": "execute_result"
    }
   ],
   "source": [
    "df['Position'].value_counts()"
   ]
  },
  {
   "cell_type": "markdown",
   "id": "5f67c904",
   "metadata": {},
   "source": [
    "### Geocoding locations with Google Maps"
   ]
  },
  {
   "cell_type": "code",
   "execution_count": 69,
   "id": "2eae32fc",
   "metadata": {},
   "outputs": [
    {
     "name": "stdout",
     "output_type": "stream",
     "text": [
      "Collecting geopy\n",
      "  Downloading geopy-2.3.0-py3-none-any.whl (119 kB)\n",
      "                                              0.0/119.8 kB ? eta -:--:--\n",
      "     -------------------------------------- 119.8/119.8 kB 3.5 MB/s eta 0:00:00\n",
      "Collecting geographiclib<3,>=1.52 (from geopy)\n",
      "  Downloading geographiclib-2.0-py3-none-any.whl (40 kB)\n",
      "                                              0.0/40.3 kB ? eta -:--:--\n",
      "     ---------------------------------------- 40.3/40.3 kB 1.9 MB/s eta 0:00:00\n",
      "Installing collected packages: geographiclib, geopy\n",
      "Successfully installed geographiclib-2.0 geopy-2.3.0\n",
      "Note: you may need to restart the kernel to use updated packages.\n"
     ]
    }
   ],
   "source": [
    "pip install geopy"
   ]
  },
  {
   "cell_type": "code",
   "execution_count": 13,
   "id": "0b4fea2a",
   "metadata": {},
   "outputs": [
    {
     "ename": "ConfigurationError",
     "evalue": "Since July 2018 Google requires each request to have an API key. Pass a valid `api_key` to GoogleV3 geocoder to fix this error. See https://developers.google.com/maps/documentation/geocoding/usage-and-billing",
     "output_type": "error",
     "traceback": [
      "\u001b[1;31m---------------------------------------------------------------------------\u001b[0m",
      "\u001b[1;31mConfigurationError\u001b[0m                        Traceback (most recent call last)",
      "Cell \u001b[1;32mIn[13], line 4\u001b[0m\n\u001b[0;32m      1\u001b[0m \u001b[38;5;28;01mfrom\u001b[39;00m \u001b[38;5;21;01mgeopy\u001b[39;00m \u001b[38;5;28;01mimport\u001b[39;00m geocoders \u001b[38;5;66;03m# pip install geopy\u001b[39;00m\n\u001b[0;32m      3\u001b[0m GOOGLEMAPS_APP_KEY \u001b[38;5;241m=\u001b[39m \u001b[38;5;124m'\u001b[39m\u001b[38;5;124m'\u001b[39m\n\u001b[1;32m----> 4\u001b[0m g \u001b[38;5;241m=\u001b[39m \u001b[43mgeocoders\u001b[49m\u001b[38;5;241;43m.\u001b[39;49m\u001b[43mGoogleV3\u001b[49m\u001b[43m(\u001b[49m\u001b[43mGOOGLEMAPS_APP_KEY\u001b[49m\u001b[43m)\u001b[49m\n\u001b[0;32m      6\u001b[0m location \u001b[38;5;241m=\u001b[39m g\u001b[38;5;241m.\u001b[39mgeocode(\u001b[38;5;124m\"\u001b[39m\u001b[38;5;124mO\u001b[39m\u001b[38;5;124m'\u001b[39m\u001b[38;5;124mReilly Media\u001b[39m\u001b[38;5;124m\"\u001b[39m)\n\u001b[0;32m      7\u001b[0m \u001b[38;5;28mprint\u001b[39m(location)\n",
      "File \u001b[1;32m~\\anaconda3\\Lib\\site-packages\\geopy\\geocoders\\google.py:119\u001b[0m, in \u001b[0;36mGoogleV3.__init__\u001b[1;34m(self, api_key, domain, scheme, client_id, secret_key, timeout, proxies, user_agent, ssl_context, adapter_factory, channel)\u001b[0m\n\u001b[0;32m    116\u001b[0m \u001b[38;5;28mself\u001b[39m\u001b[38;5;241m.\u001b[39msecret_key \u001b[38;5;241m=\u001b[39m secret_key\n\u001b[0;32m    118\u001b[0m \u001b[38;5;28;01mif\u001b[39;00m \u001b[38;5;129;01mnot\u001b[39;00m \u001b[38;5;28mself\u001b[39m\u001b[38;5;241m.\u001b[39mpremier \u001b[38;5;129;01mand\u001b[39;00m \u001b[38;5;129;01mnot\u001b[39;00m api_key:\n\u001b[1;32m--> 119\u001b[0m     \u001b[38;5;28;01mraise\u001b[39;00m ConfigurationError(\n\u001b[0;32m    120\u001b[0m         \u001b[38;5;124m'\u001b[39m\u001b[38;5;124mSince July 2018 Google requires each request to have an API key. \u001b[39m\u001b[38;5;124m'\u001b[39m\n\u001b[0;32m    121\u001b[0m         \u001b[38;5;124m'\u001b[39m\u001b[38;5;124mPass a valid `api_key` to GoogleV3 geocoder to fix this error. \u001b[39m\u001b[38;5;124m'\u001b[39m\n\u001b[0;32m    122\u001b[0m         \u001b[38;5;124m'\u001b[39m\u001b[38;5;124mSee https://developers.google.com/maps/documentation/geocoding/usage-and-billing\u001b[39m\u001b[38;5;124m'\u001b[39m  \u001b[38;5;66;03m# noqa\u001b[39;00m\n\u001b[0;32m    123\u001b[0m     )\n\u001b[0;32m    125\u001b[0m \u001b[38;5;28mself\u001b[39m\u001b[38;5;241m.\u001b[39mapi_key \u001b[38;5;241m=\u001b[39m api_key\n\u001b[0;32m    126\u001b[0m \u001b[38;5;28mself\u001b[39m\u001b[38;5;241m.\u001b[39mdomain \u001b[38;5;241m=\u001b[39m domain\u001b[38;5;241m.\u001b[39mstrip(\u001b[38;5;124m'\u001b[39m\u001b[38;5;124m/\u001b[39m\u001b[38;5;124m'\u001b[39m)\n",
      "\u001b[1;31mConfigurationError\u001b[0m: Since July 2018 Google requires each request to have an API key. Pass a valid `api_key` to GoogleV3 geocoder to fix this error. See https://developers.google.com/maps/documentation/geocoding/usage-and-billing"
     ]
    }
   ],
   "source": [
    "from geopy import geocoders # pip install geopy\n",
    "\n",
    "GOOGLEMAPS_APP_KEY = ''\n",
    "g = geocoders.GoogleV3(GOOGLEMAPS_APP_KEY)\n",
    "\n",
    "location = g.geocode(\"O'Reilly Media\")\n",
    "print(location)\n",
    "print('Lat/Lon: {0}, {1}'.format(location.latitude,location.longitude))\n",
    "print('https://www.google.ca/maps/@{0},{1},17z'.format(location.latitude,location.longitude))"
   ]
  },
  {
   "cell_type": "code",
   "execution_count": null,
   "id": "51d6745d",
   "metadata": {},
   "outputs": [],
   "source": []
  }
 ],
 "metadata": {
  "kernelspec": {
   "display_name": "Python 3 (ipykernel)",
   "language": "python",
   "name": "python3"
  },
  "language_info": {
   "codemirror_mode": {
    "name": "ipython",
    "version": 3
   },
   "file_extension": ".py",
   "mimetype": "text/x-python",
   "name": "python",
   "nbconvert_exporter": "python",
   "pygments_lexer": "ipython3",
   "version": "3.11.3"
  }
 },
 "nbformat": 4,
 "nbformat_minor": 5
}
